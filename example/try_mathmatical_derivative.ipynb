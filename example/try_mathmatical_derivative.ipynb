{
 "cells": [
  {
   "attachments": {},
   "cell_type": "markdown",
   "metadata": {},
   "source": [
    "### 二変数関数 $f(x, y)$ の二階偏導関数\n",
    "\n"
   ]
  },
  {
   "attachments": {},
   "cell_type": "markdown",
   "metadata": {},
   "source": [
    "### Step 1: 二変数関数の微分\n",
    "\n",
    "$$\n",
    "\\begin{align*}\n",
    "&f(x,y) \\equiv \\frac{n!}{a!  b!  (n-a-b)!}  x^a  y^b  (1-x-y)^{n-a-b}\\\\\n",
    "&\\text{want to show}\\Rightarrow\\frac{\\partial f(x, y)}{\\partial x\\partial y}\n",
    "\\end{align*}\n",
    "$$\n",
    "\n",
    "\n"
   ]
  },
  {
   "cell_type": "code",
   "execution_count": 2,
   "metadata": {
    "vscode": {
     "languageId": "python"
    }
   },
   "outputs": [
    {
     "data": {
      "text/html": [
       "<div><img alt=\"Output\" src=\"data:image/png;base64,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\"></div>"
      ],
      "text/plain": [
       "                   a            -1 - a - b + n  -1 + b\n",
       "   b (-a - b + n) x  (1 - x - y)               y       n!\n",
       "{-(------------------------------------------------------) + \n",
       "                    a! b! (-a - b + n)!\n",
       " \n",
       "          -1 + a            -a - b + n  -1 + b\n",
       "     a b x       (1 - x - y)           y       n!\n",
       ">    -------------------------------------------- + \n",
       "                 a! b! (-a - b + n)!\n",
       " \n",
       "                                    a            -2 - a - b + n  b\n",
       "     (-1 - a - b + n) (-a - b + n) x  (1 - x - y)               y  n!\n",
       ">    ---------------------------------------------------------------- - \n",
       "                           a! b! (-a - b + n)!\n",
       " \n",
       "                     -1 + a            -1 - a - b + n  b\n",
       "     a (-a - b + n) x       (1 - x - y)               y  n!\n",
       ">    ------------------------------------------------------}\n",
       "                      a! b! (-a - b + n)!"
      ]
     },
     "execution_count": 2,
     "metadata": {
      "text/html": [],
      "text/plain": []
     },
     "output_type": "execute_result"
    }
   ],
   "source": [
    "f[x_, y_] := (n!/(a! * b! * (n-a-b)!)) * x^a * y^b * (1-x-y)^{n-a-b}\n",
    "D[f[x, y],x, y]"
   ]
  },
  {
   "attachments": {},
   "cell_type": "markdown",
   "metadata": {},
   "source": [
    "### Step 2: 出力結果のLatex出力\n",
    "\n",
    "> やりたいこと\n",
    "\n",
    "1. Wolfram Engine出力結果のLaTex形式出力\n",
    "2. 出力結果をクリップボードへcopy\n"
   ]
  },
  {
   "cell_type": "code",
   "execution_count": 3,
   "metadata": {
    "vscode": {
     "languageId": "python"
    }
   },
   "outputs": [
    {
     "data": {
      "text/html": [
       "<div><pre style=\"&#102;&#111;&#110;&#116;&#45;&#102;&#97;&#109;&#105;&#108;&#121;&#58;&#32;&#34;&#67;&#111;&#117;&#114;&#105;&#101;&#114;&#32;&#78;&#101;&#119;&#34;&#44;&#67;&#111;&#117;&#114;&#105;&#101;&#114;&#44;&#109;&#111;&#110;&#111;&#115;&#112;&#97;&#99;&#101;&#59;\">&#92;&#108;&#101;&#102;&#116;&#92;&#123;&#92;&#102;&#114;&#97;&#99;&#123;&#97;&#32;&#98;&#32;&#110;&#33;&#32;&#120;&#94;&#123;&#97;&#45;&#49;&#125;&#32;&#121;&#94;&#123;&#98;&#45;&#49;&#125;&#32;&#40;&#45;&#120;&#45;&#121;&#43;&#49;&#41;&#94;&#123;&#45;&#97;&#45;&#98;&#43;&#110;&#125;&#125;&#123;&#97;&#33;&#32;&#98;&#33;&#32;&#40;&#45;&#97;&#45;&#98;&#43;&#110;&#41;&#33;&#125;&#45;&#92;&#102;&#114;&#97;&#99;&#123;&#97;&#32;&#110;&#33;&#92;&#10;&#32;&#10;&#62;&#32;&#32;&#32;&#120;&#94;&#123;&#97;&#45;&#49;&#125;&#32;&#121;&#94;&#98;&#32;&#40;&#45;&#97;&#45;&#98;&#43;&#110;&#41;&#32;&#40;&#45;&#120;&#45;&#121;&#43;&#49;&#41;&#94;&#123;&#45;&#97;&#45;&#98;&#43;&#110;&#45;&#49;&#125;&#125;&#123;&#97;&#33;&#32;&#98;&#33;&#32;&#40;&#45;&#97;&#45;&#98;&#43;&#110;&#41;&#33;&#125;&#45;&#92;&#102;&#114;&#97;&#99;&#123;&#98;&#32;&#110;&#33;&#32;&#120;&#94;&#97;&#32;&#121;&#94;&#123;&#98;&#45;&#49;&#125;&#92;&#10;&#32;&#10;&#62;&#32;&#32;&#32;&#40;&#45;&#97;&#45;&#98;&#43;&#110;&#41;&#32;&#40;&#45;&#120;&#45;&#121;&#43;&#49;&#41;&#94;&#123;&#45;&#97;&#45;&#98;&#43;&#110;&#45;&#49;&#125;&#125;&#123;&#97;&#33;&#32;&#98;&#33;&#32;&#40;&#45;&#97;&#45;&#98;&#43;&#110;&#41;&#33;&#125;&#43;&#92;&#102;&#114;&#97;&#99;&#123;&#110;&#33;&#32;&#120;&#94;&#97;&#32;&#121;&#94;&#98;&#32;&#40;&#45;&#97;&#45;&#98;&#43;&#110;&#45;&#49;&#41;&#32;&#40;&#45;&#97;&#45;&#98;&#43;&#110;&#41;&#92;&#10;&#32;&#10;&#62;&#32;&#32;&#32;&#40;&#45;&#120;&#45;&#121;&#43;&#49;&#41;&#94;&#123;&#45;&#97;&#45;&#98;&#43;&#110;&#45;&#50;&#125;&#125;&#123;&#97;&#33;&#32;&#98;&#33;&#32;&#40;&#45;&#97;&#45;&#98;&#43;&#110;&#41;&#33;&#125;&#92;&#114;&#105;&#103;&#104;&#116;&#92;&#125;</pre></div>"
      ],
      "text/plain": [
       "\\left\\{\\frac{a b n! x^{a-1} y^{b-1} (-x-y+1)^{-a-b+n}}{a! b! (-a-b+n)!}-\\frac{a n!\\\n",
       " \n",
       ">   x^{a-1} y^b (-a-b+n) (-x-y+1)^{-a-b+n-1}}{a! b! (-a-b+n)!}-\\frac{b n! x^a y^{b-1}\\\n",
       " \n",
       ">   (-a-b+n) (-x-y+1)^{-a-b+n-1}}{a! b! (-a-b+n)!}+\\frac{n! x^a y^b (-a-b+n-1) (-a-b+n)\\\n",
       " \n",
       ">   (-x-y+1)^{-a-b+n-2}}{a! b! (-a-b+n)!}\\right\\}"
      ]
     },
     "execution_count": 3,
     "metadata": {
      "text/html": [],
      "text/plain": []
     },
     "output_type": "execute_result"
    }
   ],
   "source": [
    "ToString[TeXForm[D[f[x, y],x, y]]]"
   ]
  },
  {
   "cell_type": "code",
   "execution_count": 4,
   "metadata": {
    "vscode": {
     "languageId": "python"
    }
   },
   "outputs": [],
   "source": [
    "CopyToClipboard[ToString[TeXForm[D[f[x, y],x, y]]]]\n"
   ]
  }
 ],
 "metadata": {
  "kernelspec": {
   "display_name": "Wolfram Language 13.2",
   "language": "Wolfram Language",
   "name": "wolframlanguage13.2"
  },
  "language_info": {
   "codemirror_mode": "mathematica",
   "file_extension": ".m",
   "mimetype": "application/vnd.wolfram.m",
   "name": "Wolfram Language",
   "pygments_lexer": "mathematica",
   "version": "12.0"
  },
  "orig_nbformat": 4
 },
 "nbformat": 4,
 "nbformat_minor": 2
}
