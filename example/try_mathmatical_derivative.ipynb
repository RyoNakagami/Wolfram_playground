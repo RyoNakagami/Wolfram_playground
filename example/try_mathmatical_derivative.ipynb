{
 "cells": [
  {
   "attachments": {},
   "cell_type": "markdown",
   "metadata": {},
   "source": [
    "### 二変数関数 $f(x, y)$ の二階偏導関数\n",
    "\n"
   ]
  },
  {
   "attachments": {},
   "cell_type": "markdown",
   "metadata": {},
   "source": [
    "### Step 1: 二変数関数の微分\n",
    "\n",
    "$$\n",
    "\\begin{align*}\n",
    "&f(x,y) \\equiv \\frac{n!}{a!  b!  (n-a-b)!}  x^a  (y-x)^b  (1-y)^{n-a-b}\\\\\n",
    "&\\text{want to show}\\Rightarrow\\frac{\\partial f(x, y)}{\\partial x\\partial y}\n",
    "\\end{align*}\n",
    "$$\n",
    "\n",
    "\n"
   ]
  },
  {
   "cell_type": "code",
   "execution_count": 2,
   "metadata": {
    "vscode": {
     "languageId": "python"
    }
   },
   "outputs": [
    {
     "data": {
      "text/html": [
       "<div><img alt=\"Output\" src=\"data:image/png;base64,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\"></div>"
      ],
      "text/plain": [
       "               a        -a - b + n         -2 + b\n",
       "   (-1 + b) b x  (1 - y)           (-x + y)       n!\n",
       "{-(-------------------------------------------------) + \n",
       "                  a! b! (-a - b + n)!\n",
       " \n",
       "                     a        -1 - a - b + n         -1 + b\n",
       "     b (-a - b + n) x  (1 - y)               (-x + y)       n!\n",
       ">    --------------------------------------------------------- + \n",
       "                        a! b! (-a - b + n)!\n",
       " \n",
       "          -1 + a        -a - b + n         -1 + b\n",
       "     a b x       (1 - y)           (-x + y)       n!\n",
       ">    ----------------------------------------------- - \n",
       "                   a! b! (-a - b + n)!\n",
       " \n",
       "                     -1 + a        -1 - a - b + n         b\n",
       "     a (-a - b + n) x       (1 - y)               (-x + y)  n!\n",
       ">    ---------------------------------------------------------}\n",
       "                        a! b! (-a - b + n)!"
      ]
     },
     "execution_count": 2,
     "metadata": {
      "text/html": [],
      "text/plain": []
     },
     "output_type": "execute_result"
    }
   ],
   "source": [
    "f[x_, y_] := (n!/(a! * b! * (n-a-b)!)) * x^a * (y-x)^b * (1-y)^{n-a-b}\n",
    "D[f[x, y],x, y]"
   ]
  },
  {
   "attachments": {},
   "cell_type": "markdown",
   "metadata": {},
   "source": [
    "### Step 2: 出力結果のLatex出力\n",
    "\n",
    "> やりたいこと\n",
    "\n",
    "1. Wolfram Engine出力結果のLaTex形式出力\n",
    "2. 出力結果をクリップボードへcopy\n"
   ]
  },
  {
   "cell_type": "code",
   "execution_count": 3,
   "metadata": {
    "vscode": {
     "languageId": "python"
    }
   },
   "outputs": [
    {
     "data": {
      "text/html": [
       "<div><pre style=\"&#102;&#111;&#110;&#116;&#45;&#102;&#97;&#109;&#105;&#108;&#121;&#58;&#32;&#34;&#67;&#111;&#117;&#114;&#105;&#101;&#114;&#32;&#78;&#101;&#119;&#34;&#44;&#67;&#111;&#117;&#114;&#105;&#101;&#114;&#44;&#109;&#111;&#110;&#111;&#115;&#112;&#97;&#99;&#101;&#59;\">&#92;&#108;&#101;&#102;&#116;&#92;&#123;&#92;&#102;&#114;&#97;&#99;&#123;&#97;&#32;&#98;&#32;&#110;&#33;&#32;&#120;&#94;&#123;&#97;&#45;&#49;&#125;&#32;&#40;&#121;&#45;&#120;&#41;&#94;&#123;&#98;&#45;&#49;&#125;&#32;&#40;&#49;&#45;&#121;&#41;&#94;&#123;&#45;&#97;&#45;&#98;&#43;&#110;&#125;&#125;&#123;&#97;&#33;&#32;&#98;&#33;&#32;&#40;&#45;&#97;&#45;&#98;&#43;&#110;&#41;&#33;&#125;&#45;&#92;&#102;&#114;&#97;&#99;&#123;&#97;&#32;&#110;&#33;&#92;&#10;&#32;&#10;&#62;&#32;&#32;&#32;&#120;&#94;&#123;&#97;&#45;&#49;&#125;&#32;&#40;&#45;&#97;&#45;&#98;&#43;&#110;&#41;&#32;&#40;&#121;&#45;&#120;&#41;&#94;&#98;&#32;&#40;&#49;&#45;&#121;&#41;&#94;&#123;&#45;&#97;&#45;&#98;&#43;&#110;&#45;&#49;&#125;&#125;&#123;&#97;&#33;&#32;&#98;&#33;&#32;&#40;&#45;&#97;&#45;&#98;&#43;&#110;&#41;&#33;&#125;&#45;&#92;&#102;&#114;&#97;&#99;&#123;&#40;&#98;&#45;&#49;&#41;&#32;&#98;&#32;&#110;&#33;&#32;&#120;&#94;&#97;&#92;&#10;&#32;&#10;&#62;&#32;&#32;&#32;&#40;&#121;&#45;&#120;&#41;&#94;&#123;&#98;&#45;&#50;&#125;&#32;&#40;&#49;&#45;&#121;&#41;&#94;&#123;&#45;&#97;&#45;&#98;&#43;&#110;&#125;&#125;&#123;&#97;&#33;&#32;&#98;&#33;&#32;&#40;&#45;&#97;&#45;&#98;&#43;&#110;&#41;&#33;&#125;&#43;&#92;&#102;&#114;&#97;&#99;&#123;&#98;&#32;&#110;&#33;&#32;&#120;&#94;&#97;&#32;&#40;&#45;&#97;&#45;&#98;&#43;&#110;&#41;&#32;&#40;&#121;&#45;&#120;&#41;&#94;&#123;&#98;&#45;&#49;&#125;&#92;&#10;&#32;&#10;&#62;&#32;&#32;&#32;&#40;&#49;&#45;&#121;&#41;&#94;&#123;&#45;&#97;&#45;&#98;&#43;&#110;&#45;&#49;&#125;&#125;&#123;&#97;&#33;&#32;&#98;&#33;&#32;&#40;&#45;&#97;&#45;&#98;&#43;&#110;&#41;&#33;&#125;&#92;&#114;&#105;&#103;&#104;&#116;&#92;&#125;</pre></div>"
      ],
      "text/plain": [
       "\\left\\{\\frac{a b n! x^{a-1} (y-x)^{b-1} (1-y)^{-a-b+n}}{a! b! (-a-b+n)!}-\\frac{a n!\\\n",
       " \n",
       ">   x^{a-1} (-a-b+n) (y-x)^b (1-y)^{-a-b+n-1}}{a! b! (-a-b+n)!}-\\frac{(b-1) b n! x^a\\\n",
       " \n",
       ">   (y-x)^{b-2} (1-y)^{-a-b+n}}{a! b! (-a-b+n)!}+\\frac{b n! x^a (-a-b+n) (y-x)^{b-1}\\\n",
       " \n",
       ">   (1-y)^{-a-b+n-1}}{a! b! (-a-b+n)!}\\right\\}"
      ]
     },
     "execution_count": 3,
     "metadata": {
      "text/html": [],
      "text/plain": []
     },
     "output_type": "execute_result"
    }
   ],
   "source": [
    "ToString[TeXForm[D[f[x, y],x, y]]]"
   ]
  },
  {
   "cell_type": "code",
   "execution_count": 4,
   "metadata": {
    "vscode": {
     "languageId": "python"
    }
   },
   "outputs": [],
   "source": [
    "CopyToClipboard[ToString[TeXForm[D[f[x, y],x, y]]]]\n"
   ]
  }
 ],
 "metadata": {
  "kernelspec": {
   "display_name": "Wolfram Language 13.2",
   "language": "Wolfram Language",
   "name": "wolframlanguage13.2"
  },
  "language_info": {
   "codemirror_mode": "mathematica",
   "file_extension": ".m",
   "mimetype": "application/vnd.wolfram.m",
   "name": "Wolfram Language",
   "pygments_lexer": "mathematica",
   "version": "12.0"
  },
  "orig_nbformat": 4
 },
 "nbformat": 4,
 "nbformat_minor": 2
}
